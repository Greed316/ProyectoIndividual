{
 "cells": [
  {
   "cell_type": "code",
   "execution_count": 1,
   "metadata": {},
   "outputs": [],
   "source": [
    "import chardet\n",
    "from os import listdir\n",
    "from os.path import isfile, splitext\n",
    "import pandas as pd\n",
    "import numpy as np\n",
    "import string\n"
   ]
  },
  {
   "cell_type": "code",
   "execution_count": 4,
   "metadata": {},
   "outputs": [
    {
     "name": "stdout",
     "output_type": "stream",
     "text": [
      "Comenzando procesamiento\n",
      "Fin del Procesamiento\n"
     ]
    }
   ],
   "source": [
    "print('Comenzando procesamiento')\n",
    "# Globales\n",
    "ruta_data = 'datasets/'\n",
    "ruta_csv = 'csv/'\n",
    "archs = listdir(ruta_data)\n",
    "\n",
    "# Obtener la ruta de la carpeta que contiene los archivos CSV\n",
    "ac1='ratings/1'\n",
    "ac2='ratings/2'\n",
    "ac3='ratings/3'\n",
    "ac4='ratings/4'\n",
    "ac5='ratings/5'\n",
    "ac6='ratings/6'\n",
    "ac7='ratings/7'\n",
    "archivos = [ac1,ac2,ac3,ac4,ac5,ac6,ac7]\n",
    "lista_df = []\n",
    "for archivo in archivos:\n",
    "            df1 = pd.read_csv(archivo+\".csv\")\n",
    "            lista_df.append(df1)\n",
    "\n",
    "df_rating = pd.concat(lista_df)\n",
    "df_rating = df_rating.rename(columns={'movieId': 'id'})\n",
    "df_rating = df_rating.rename(columns={'rating': 'score'})\n",
    "\n",
    "# Detectamos y seleccionamos los archivos a procesar\n",
    "extensiones = ['.csv']\n",
    "arch_fallos = []\n",
    "arch_ok = []\n",
    "# Recorremos los archivo encontrados    \n",
    "for arch in archs:\n",
    "        if isfile(ruta_data + arch):\n",
    "                # Separamos en nombre y ext de arhivo\n",
    "                nombre_arch, ext_arch = splitext(arch)\n",
    "                # Los clasificamos\n",
    "                if ext_arch in extensiones:\n",
    "                    arch_ok.append(arch)\n",
    "                else:\n",
    "                    arch_fallos.append(arch)   \n",
    "\n",
    "        # Procesamos los archivos CSV\n",
    "    \n",
    "for arch in arch_ok:\n",
    "        nombre_arch, ext_arch = splitext(arch)\n",
    "        if ext_arch == '.csv':\n",
    "                with open(ruta_data + arch, 'rb') as f:\n",
    "                    # Detectamos el encoding\n",
    "                    resultado = chardet.detect(f.read())\n",
    "                    encod = resultado['encoding']\n",
    "                df_csv = pd.read_csv(ruta_data +  arch, encoding=encod)\n",
    "                df_rat=df_rating.copy()\n",
    "\n",
    "                # Crear columna ID\n",
    "                \n",
    "                df_csv['id'] = nombre_arch[0] + df_csv['show_id'].astype(str)\n",
    "                df_csv.insert(0, \"id\", df_csv.pop(\"id\"))\n",
    "\n",
    "                # reemplazamos valores nulos de la columna rating por G\n",
    "                df_csv['rating'] = df_csv['rating'].fillna('G')\n",
    "\n",
    "                # cambiamos el formato de date_added\n",
    "                df_csv['date_added'] = pd.to_datetime(df_csv['date_added'], format='%B %d, %Y', errors='coerce')\n",
    "                df_csv['date_added'] = df_csv['date_added'].dt.strftime('%Y-%m-%d')\n",
    "\n",
    "                # convertimos las mayusculas en minusculas\n",
    "                df_csv = df_csv.apply(lambda x: x.str.lower() if x.dtype == \"object\" else x)\n",
    "\n",
    "                # separar la columna duration en duration_int y duration_type\n",
    "                df_csv[\"duration_int\"] = df_csv[\"duration\"].str.extract('(\\d+)', expand=False)\n",
    "                df_csv[\"duration_int\"] = pd.to_numeric(df_csv[\"duration_int\"], errors='coerce')\n",
    "                df_csv[\"duration_type\"] = df_csv[\"duration\"].astype(str)\n",
    "                df_csv[\"duration_type\"] = df_csv[\"duration_type\"].str.translate(str.maketrans('', '', string.digits))\n",
    "                df_csv[\"duration_type\"] = df_csv[\"duration_type\"].str.replace(\"seasons\", \"season\")\n",
    "\n",
    "                # Agregar la columna score\n",
    "                grupo = df_rat.groupby('id')\n",
    "                resultado = round(grupo['score'].mean(),2)\n",
    "                resultado = resultado.to_frame().reset_index()\n",
    "                dfconbinado = pd.merge(df_csv,resultado,on='id',how='left')\n",
    "                        \n",
    "                dfconbinado.to_csv(ruta_csv + nombre_arch + '.csv', index=False, encoding='utf8')        \n",
    "        \n",
    "print('Fin del Procesamiento')"
   ]
  }
 ],
 "metadata": {
  "kernelspec": {
   "display_name": "envPI01",
   "language": "python",
   "name": "python3"
  },
  "language_info": {
   "codemirror_mode": {
    "name": "ipython",
    "version": 3
   },
   "file_extension": ".py",
   "mimetype": "text/x-python",
   "name": "python",
   "nbconvert_exporter": "python",
   "pygments_lexer": "ipython3",
   "version": "3.10.7"
  },
  "orig_nbformat": 4
 },
 "nbformat": 4,
 "nbformat_minor": 2
}
