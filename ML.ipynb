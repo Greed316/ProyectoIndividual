{
 "cells": [
  {
   "attachments": {},
   "cell_type": "markdown",
   "metadata": {},
   "source": [
    "Cargar el dataset que contiene información sobre las películas y las puntuaciones de los usuarios.\n"
   ]
  },
  {
   "cell_type": "code",
   "execution_count": 1,
   "metadata": {},
   "outputs": [],
   "source": [
    "import pandas as pd"
   ]
  },
  {
   "cell_type": "code",
   "execution_count": null,
   "metadata": {},
   "outputs": [],
   "source": [
    "amazon='csv/amazon_prime_titles'\n",
    "netflix ='csv/netflix_titles'\n",
    "disney='csv/disney_plus_titles'\n",
    "hulu='csv/hulu_titles'\n",
    "archivos = [amazon,netflix,disney,hulu]\n",
    "df = pd.read_csv(netflix+\".csv\")\n",
    "\n",
    "lista_df = []\n",
    "for archivo in archivos:\n",
    "     df1 = pd.read_csv(archivo+\".csv\")\n",
    "     lista_df.append(df1)\n",
    "\n",
    "dfconbinado = pd.concat(lista_df)"
   ]
  },
  {
   "cell_type": "code",
   "execution_count": 47,
   "metadata": {},
   "outputs": [],
   "source": [
    "# Obtener la ruta de la carpeta que contiene los archivos CSV\n",
    "ac1='ratings/1'\n",
    "ac2='ratings/2'\n",
    "ac3='ratings/3'\n",
    "ac4='ratings/4'\n",
    "ac5='ratings/5'\n",
    "ac6='ratings/6'\n",
    "ac7='ratings/7'\n",
    "archivos = [ac1,ac2,ac3,ac4,ac5,ac6,ac7]\n",
    "lista_df = []\n",
    "for archivo in archivos:\n",
    "            df1 = pd.read_csv(archivo+\".csv\")\n",
    "            lista_df.append(df1)\n",
    "\n",
    "df_rating = pd.concat(lista_df)\n",
    "df_rating = df_rating.rename(columns={'movieId': 'id'})\n",
    "df_rating = df_rating.rename(columns={'rating': 'score'})"
   ]
  },
  {
   "cell_type": "code",
   "execution_count": null,
   "metadata": {},
   "outputs": [],
   "source": [
    "df_rating.head(5)"
   ]
  },
  {
   "cell_type": "code",
   "execution_count": null,
   "metadata": {},
   "outputs": [],
   "source": [
    "df_rating.head(5)"
   ]
  },
  {
   "cell_type": "code",
   "execution_count": 107,
   "metadata": {},
   "outputs": [
    {
     "name": "stdout",
     "output_type": "stream",
     "text": [
      "            id  score            title\n",
      "0         as14    2.5       resilencia\n",
      "1         as14    3.0       resilencia\n",
      "2         as14    4.0       resilencia\n",
      "3         as14    2.0       resilencia\n",
      "4         as14    3.0       resilencia\n",
      "...        ...    ...              ...\n",
      "221214  as9620    4.5  the shadow side\n",
      "221215  as9620    4.0  the shadow side\n",
      "221216  as9620    3.0  the shadow side\n",
      "221217  as9620    5.0  the shadow side\n",
      "221218  as9620    4.5  the shadow side\n",
      "\n",
      "[221219 rows x 3 columns]\n"
     ]
    }
   ],
   "source": [
    "from sklearn.metrics.pairwise import cosine_similarity\n",
    "from sklearn.preprocessing import StandardScaler\n",
    "import pandas as pd\n",
    "\n",
    "df = df_rating\n",
    "# Eliminar columnas innecesarias\n",
    "df_merged = pd.merge(dfconbinado, df_rating, on='id')\n",
    "\n",
    "# Eliminar cualquier columna no deseada\n",
    "df_merged = df_merged[['id', 'score', 'title']]\n",
    "\n",
    "#df = df.drop(['show_id','type','director','cast','country','date_added','release_year','rating','duration','listed_in','description','duration_int','duration_type'], axis=1)\n",
    "\n",
    "print(df_merged)\n",
    "\n"
   ]
  },
  {
   "attachments": {},
   "cell_type": "markdown",
   "metadata": {},
   "source": [
    "Calcular la matriz de similitud entre las películas basándose en las puntuaciones de los usuarios. Para ello, se puede utilizar una técnica como el cosine similarity."
   ]
  },
  {
   "cell_type": "code",
   "execution_count": null,
   "metadata": {},
   "outputs": [],
   "source": [
    "# Cargar el dataset\n",
    "#df_merged = pd.read_csv('peliculas.csv', usecols=['id_pelicula', 'score', 'titulo'])\n",
    "\n",
    "# Calcular la matriz de similitud\n",
    "matriz_pivot = df_merged.pivot_table(index='id', columns='title', values='score')\n",
    "matriz_similitud = matriz_pivot.corr()\n",
    "print(matriz_similitud)\n"
   ]
  },
  {
   "cell_type": "code",
   "execution_count": null,
   "metadata": {},
   "outputs": [],
   "source": [
    "df=df_merged\n",
    "print(df.head(5))\n",
    "# Convertir el DataFrame en una matriz\n",
    "matriz_puntuaciones = df.pivot_table(index='title', columns='id', values='score')\n",
    "\n"
   ]
  },
  {
   "cell_type": "code",
   "execution_count": 95,
   "metadata": {},
   "outputs": [],
   "source": [
    "import numpy as np\n",
    "# Normalizar los datos\n",
    "scaler = StandardScaler()\n",
    "matriz_puntuaciones_norm = scaler.fit_transform(matriz_puntuaciones)\n",
    "#matriz_puntuaciones_norm = np.nan_to_num(matriz_puntuaciones_norm)"
   ]
  },
  {
   "cell_type": "code",
   "execution_count": 92,
   "metadata": {},
   "outputs": [],
   "source": [
    "# Calcular la matriz de similitud\n",
    "matriz_similitud = cosine_similarity(matriz_puntuaciones_norm)"
   ]
  },
  {
   "attachments": {},
   "cell_type": "markdown",
   "metadata": {},
   "source": [
    "Definir la función get_recommendation(titulo: str) que tomará como entrada el título de la película y devolverá una lista con las 5 películas más recomendadas."
   ]
  },
  {
   "cell_type": "code",
   "execution_count": null,
   "metadata": {},
   "outputs": [],
   "source": [
    "from fastapi import FastAPI\n",
    "\n",
    "app = FastAPI()\n",
    "\n",
    "@app.get('/recommendation/{titulo}')\n",
    "def get_recommendation(titulo: str):\n",
    "    # Obtener el índice de la película en la matriz\n",
    "    indice_pelicula = matriz_puntuaciones.index.get_loc(titulo)\n",
    "\n",
    "    # Obtener la fila correspondiente en la matriz de similitud\n",
    "    fila_similitud = matriz_similitud[indice_pelicula]\n",
    "\n",
    "    # Obtener los índices de las 5 películas más similares\n",
    "    indices_similares = fila_similitud.argsort()[::-1][1:6]\n",
    "\n",
    "    # Obtener los nombres de las películas más similares\n",
    "    peliculas_similares = [matriz_puntuaciones.index[i] for i in indices_similares]\n",
    "\n",
    "    return peliculas_similares\n",
    "\n"
   ]
  }
 ],
 "metadata": {
  "kernelspec": {
   "display_name": "envPI01",
   "language": "python",
   "name": "python3"
  },
  "language_info": {
   "codemirror_mode": {
    "name": "ipython",
    "version": 3
   },
   "file_extension": ".py",
   "mimetype": "text/x-python",
   "name": "python",
   "nbconvert_exporter": "python",
   "pygments_lexer": "ipython3",
   "version": "3.10.7"
  },
  "orig_nbformat": 4
 },
 "nbformat": 4,
 "nbformat_minor": 2
}
